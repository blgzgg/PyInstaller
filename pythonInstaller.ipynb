{
 "cells": [
  {
   "cell_type": "markdown",
   "metadata": {},
   "source": []
  },
  {
   "cell_type": "code",
   "execution_count": null,
   "metadata": {},
   "outputs": [],
   "source": [
    "# Package name to install\n",
    "package_name = 'torch'"
   ]
  },
  {
   "cell_type": "code",
   "execution_count": null,
   "metadata": {},
   "outputs": [],
   "source": [
    "import subprocess\n",
    "\n",
    "# Function to run a command and print the output\n",
    "def run_command(command):\n",
    "\n",
    "    result = subprocess.run(command, capture_output=True, text=True)\n",
    "    \n",
    "    # Print the command being executed\n",
    "    print(f\"Running command: {' '.join(command)}\")\n",
    "    \n",
    "    # Print standard output and errors\n",
    "    if result.stdout:\n",
    "        print(\"Output:\\n\", result.stdout)\n",
    "    if result.stderr:\n",
    "        print(\"Error:\\n\", result.stderr)\n",
    "\n",
    "\n",
    "# Run pip install and upgrade commands\n",
    "commands = [\n",
    "    ['pip', 'install', '--upgrade', 'pip'],\n",
    "    ['pip', 'install', package_name],\n",
    "    ['pip', 'install', '--upgrade', package_name],\n",
    "    ['python3', '-m', 'pip', 'install', package_name],\n",
    "    ['python3', '-m', 'pip', 'install', '--upgrade', package_name]\n",
    "]\n",
    "\n",
    "# Execute and print outputs\n",
    "for command in commands:\n",
    "    run_command(command)\n"
   ]
  },
  {
   "cell_type": "markdown",
   "metadata": {},
   "source": []
  }
 ],
 "metadata": {
  "kernelspec": {
   "display_name": "Python 3",
   "language": "python",
   "name": "python3"
  },
  "language_info": {
   "codemirror_mode": {
    "name": "ipython",
    "version": 3
   },
   "file_extension": ".py",
   "mimetype": "text/x-python",
   "name": "python",
   "nbconvert_exporter": "python",
   "pygments_lexer": "ipython3",
   "version": "3.11.9"
  }
 },
 "nbformat": 4,
 "nbformat_minor": 2
}
